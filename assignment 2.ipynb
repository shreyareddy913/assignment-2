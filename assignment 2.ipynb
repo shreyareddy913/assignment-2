{
 "cells": [
  {
   "cell_type": "code",
   "execution_count": 1,
   "metadata": {},
   "outputs": [
    {
     "name": "stdout",
     "output_type": "stream",
     "text": [
      "Sum of all element in list a : 15\n",
      "Product of all elements in list a : 120\n"
     ]
    }
   ],
   "source": [
    "def myreduce(fun, b):\n",
    "    x=b[0]\n",
    "    \n",
    "    for i in range(1, len(b)):\n",
    "        x=fun(x, b[i])\n",
    "    \n",
    "    return x\n",
    "\n",
    "def sumo(x,y):\n",
    "    return x+y\n",
    "\n",
    "def Product(x,y):\n",
    "    return(x * y)\n",
    "a = [1, 2, 3, 4, 5]\n",
    "\n",
    "print(\"Sum of all element in list a :\", myreduce(sumo, a))\n",
    "print(\"Product of all elements in list a :\", myreduce(Product, a))"
   ]
  },
  {
   "cell_type": "code",
   "execution_count": 3,
   "metadata": {},
   "outputs": [
    {
     "name": "stdout",
     "output_type": "stream",
     "text": [
      "[5, 10, 15, 35, 120]\n",
      "[1, 3, 5, 7, 9]\n"
     ]
    }
   ],
   "source": [
    "def myfilter(fun, alist):\n",
    "    x = []\n",
    "    y = []\n",
    "    \n",
    "    for i in alist:\n",
    "        x.append(fun(i))\n",
    "    \n",
    "    for i in range(0, len(x)):\n",
    "        if x[i]==False:\n",
    "            continue\n",
    "        else:\n",
    "            y.append(x[i])\n",
    "    return y\n",
    "def multiple_five(i):\n",
    "    if i%5==0:\n",
    "        return i\n",
    "    else:\n",
    "        return False\n",
    "def odd_number(i):\n",
    "    if i%2 == 1:\n",
    "        return i\n",
    "    else:\n",
    "        return False\n",
    "print(myfilter(multiple_five, [2, 5, 6, 4, 10, 15, 12, 35, 124, 120]))\n",
    "print(myfilter(odd_number,[1, 2, 3, 4, 5, 6, 7, 8, 9, 10]))"
   ]
  },
  {
   "cell_type": "code",
   "execution_count": 7,
   "metadata": {},
   "outputs": [
    {
     "data": {
      "text/plain": [
       "['A', 'C', 'A', 'D', 'G', 'I', 'L', 'D']"
      ]
     },
     "execution_count": 7,
     "metadata": {},
     "output_type": "execute_result"
    }
   ],
   "source": [
    "a = [i for i in 'ACADGILD']\n",
    "a"
   ]
  },
  {
   "cell_type": "code",
   "execution_count": 9,
   "metadata": {},
   "outputs": [
    {
     "data": {
      "text/plain": [
       "['x', 'xx', 'xxx', 'xxxx', 'y', 'yy', 'yyy', 'yyyy', 'z', 'zz', 'zzz', 'zzzz']"
      ]
     },
     "execution_count": 9,
     "metadata": {},
     "output_type": "execute_result"
    }
   ],
   "source": [
    "a1 = [i * j for j in ['x', 'y', 'z'] for i in range(1, 5)]\n",
    "a1"
   ]
  },
  {
   "cell_type": "code",
   "execution_count": 8,
   "metadata": {},
   "outputs": [
    {
     "data": {
      "text/plain": [
       "['x', 'y', 'z', 'xx', 'yy', 'zz', 'xxx', 'yyy', 'zzz', 'xxxx', 'yyyy', 'zzzz']"
      ]
     },
     "execution_count": 8,
     "metadata": {},
     "output_type": "execute_result"
    }
   ],
   "source": [
    "a2 = [i * j for j in range(1, 5) for i in ['x', 'y', 'z']]\n",
    "a2"
   ]
  },
  {
   "cell_type": "code",
   "execution_count": 10,
   "metadata": {},
   "outputs": [
    {
     "data": {
      "text/plain": [
       "[[2], [3], [4], [3], [4], [5], [4], [5], [6]]"
      ]
     },
     "execution_count": 10,
     "metadata": {},
     "output_type": "execute_result"
    }
   ],
   "source": [
    "a3 = [[i + j] for j in [0, 1, 2] for i in range(2, 5)]\n",
    "a3"
   ]
  },
  {
   "cell_type": "code",
   "execution_count": 12,
   "metadata": {},
   "outputs": [
    {
     "data": {
      "text/plain": [
       "[[2, 3, 4, 5], [3, 4, 5, 6], [4, 5, 6, 7], [5, 6, 7, 8]]"
      ]
     },
     "execution_count": 12,
     "metadata": {},
     "output_type": "execute_result"
    }
   ],
   "source": [
    "a4 = [[i + j for j in [0, 1, 2, 3]] for i in range(2, 6)]\n",
    "a4"
   ]
  },
  {
   "cell_type": "code",
   "execution_count": 13,
   "metadata": {},
   "outputs": [
    {
     "data": {
      "text/plain": [
       "[(1, 1), (2, 1), (3, 1), (1, 2), (2, 2), (3, 2), (1, 3), (2, 3), (3, 3)]"
      ]
     },
     "execution_count": 13,
     "metadata": {},
     "output_type": "execute_result"
    }
   ],
   "source": [
    "a5 = [(i,j) for j in [1, 2, 3] for i in [1, 2, 3]]\n",
    "a5"
   ]
  },
  {
   "cell_type": "code",
   "execution_count": 17,
   "metadata": {},
   "outputs": [
    {
     "name": "stdout",
     "output_type": "stream",
     "text": [
      "List of words:['Arha', 'Arjun', 'shreya', 'ishitha', 'raman']\n",
      "List of wordlength:[4, 5, 6, 7, 5]\n"
     ]
    }
   ],
   "source": [
    "Words = ['Arha','Arjun','shreya','ishitha','raman']\n",
    "lenofWords = []\n",
    "for i in range(len(Words)):\n",
    "    lenofWords.append(len(Words[i]))\n",
    "print(\"List of words:\"+str(Words))    \n",
    "print(\"List of wordlength:\"+str(lenofWords))"
   ]
  },
  {
   "cell_type": "code",
   "execution_count": 21,
   "metadata": {},
   "outputs": [
    {
     "name": "stdout",
     "output_type": "stream",
     "text": [
      "6.0\n",
      "There are 3 sides.\n"
     ]
    }
   ],
   "source": [
    "class Polygon:\n",
    "    def __init__(self, n):\n",
    "        self.numofsides = n\n",
    "    def sides(self):\n",
    "        print('There are ' + str(self.numofsides) + ' sides.')\n",
    "class Triangle(Polygon):\n",
    "    def __init__(self, lenofsides):\n",
    "        Polygon.__init__(self, 3)\n",
    "        self.lenofsides = lenofsides\n",
    "    def get_area(self):\n",
    "        a, b, c = self.lenofsides\n",
    "        s = (a + b + c) / 2\n",
    "        return (s*(s-a)*(s-b)*(s-c)) ** 0.5\n",
    "a1 = Triangle([3, 4, 5])\n",
    "print(a1.get_area())\n",
    "a1.sides()"
   ]
  },
  {
   "cell_type": "code",
   "execution_count": 23,
   "metadata": {},
   "outputs": [
    {
     "name": "stdout",
     "output_type": "stream",
     "text": [
      "False\n",
      "True\n",
      "False\n"
     ]
    }
   ],
   "source": [
    "def is_vowel(char):\n",
    "    vowels = ('a', 'e', 'i', 'o', 'u')\n",
    "    if char not in vowels:\n",
    "        return False\n",
    "    return True\n",
    "if __name__ == \"__main__\":\n",
    "    print(is_vowel(1))\n",
    "    print(is_vowel('a'))\n",
    "    print(is_vowel('b'))"
   ]
  }
 ],
 "metadata": {
  "kernelspec": {
   "display_name": "Python 3",
   "language": "python",
   "name": "python3"
  },
  "language_info": {
   "codemirror_mode": {
    "name": "ipython",
    "version": 3
   },
   "file_extension": ".py",
   "mimetype": "text/x-python",
   "name": "python",
   "nbconvert_exporter": "python",
   "pygments_lexer": "ipython3",
   "version": "3.7.6"
  }
 },
 "nbformat": 4,
 "nbformat_minor": 4
}
